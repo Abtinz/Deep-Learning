{
 "cells": [
  {
   "cell_type": "code",
   "execution_count": 9,
   "id": "12cc77f5",
   "metadata": {},
   "outputs": [],
   "source": [
    "import tensorflow as tf\n",
    "from tensorflow import keras\n",
    "import matplotlib.pyplot as plt\n",
    "import numpy as np"
   ]
  },
  {
   "cell_type": "code",
   "execution_count": null,
   "id": "774498af",
   "metadata": {},
   "outputs": [],
   "source": [
    "(X_train, y_train) , (X_test, y_test) = keras.datasets.mnist.load_data()"
   ]
  },
  {
   "cell_type": "code",
   "execution_count": 16,
   "id": "ad44bf2c",
   "metadata": {},
   "outputs": [],
   "source": [
    "from sklearn.datasets import fetch_openml"
   ]
  },
  {
   "cell_type": "code",
   "execution_count": 17,
   "id": "aa3cf478",
   "metadata": {},
   "outputs": [],
   "source": [
    "x,y = fetch_openml('mnist_784' , version = 1 , return_X_y = True)"
   ]
  },
  {
   "cell_type": "code",
   "execution_count": 18,
   "id": "74e4bd3f",
   "metadata": {},
   "outputs": [],
   "source": [
    "from sklearn.model_selection import train_test_split"
   ]
  },
  {
   "cell_type": "code",
   "execution_count": 20,
   "id": "dbf063e0",
   "metadata": {},
   "outputs": [],
   "source": [
    "xtrain , xtest , ytrain , ytest = train_test_split(x,y,test_size = 0.85)"
   ]
  },
  {
   "cell_type": "code",
   "execution_count": 42,
   "id": "44d9e0cb",
   "metadata": {},
   "outputs": [],
   "source": [
    "xtrain_np = xtrain.to_numpy() "
   ]
  },
  {
   "cell_type": "code",
   "execution_count": 45,
   "id": "ab80d51d",
   "metadata": {},
   "outputs": [
    {
     "data": {
      "text/plain": [
       "array([[0.        , 0.        , 0.        , 0.        , 0.        ,\n",
       "        0.        , 0.        , 0.        , 0.        , 0.        ,\n",
       "        0.        , 0.        , 0.        , 0.        , 0.        ,\n",
       "        0.        , 0.        , 0.        , 0.        , 0.        ,\n",
       "        0.        , 0.        , 0.        , 0.        , 0.        ,\n",
       "        0.        , 0.        , 0.        ],\n",
       "       [0.        , 0.        , 0.        , 0.        , 0.        ,\n",
       "        0.        , 0.        , 0.        , 0.        , 0.        ,\n",
       "        0.        , 0.        , 0.        , 0.        , 0.        ,\n",
       "        0.        , 0.        , 0.        , 0.        , 0.        ,\n",
       "        0.        , 0.        , 0.        , 0.        , 0.        ,\n",
       "        0.        , 0.        , 0.        ],\n",
       "       [0.        , 0.        , 0.        , 0.        , 0.        ,\n",
       "        0.        , 0.        , 0.        , 0.        , 0.        ,\n",
       "        0.        , 0.        , 0.        , 0.        , 0.        ,\n",
       "        0.        , 0.        , 0.        , 0.        , 0.        ,\n",
       "        0.        , 0.        , 0.        , 0.        , 0.        ,\n",
       "        0.        , 0.        , 0.        ],\n",
       "       [0.        , 0.        , 0.        , 0.        , 0.        ,\n",
       "        0.        , 0.        , 0.        , 0.        , 0.        ,\n",
       "        0.        , 0.        , 0.        , 0.        , 0.        ,\n",
       "        0.        , 0.        , 0.        , 0.        , 0.        ,\n",
       "        0.        , 0.        , 0.        , 0.        , 0.        ,\n",
       "        0.        , 0.        , 0.        ],\n",
       "       [0.        , 0.        , 0.        , 0.        , 0.        ,\n",
       "        0.        , 0.        , 0.        , 0.        , 0.        ,\n",
       "        0.        , 0.01568627, 0.21176471, 0.55294118, 0.74901961,\n",
       "        1.        , 0.99215686, 0.99215686, 0.99215686, 0.75294118,\n",
       "        0.23529412, 0.        , 0.        , 0.        , 0.        ,\n",
       "        0.        , 0.        , 0.        ],\n",
       "       [0.        , 0.        , 0.        , 0.        , 0.        ,\n",
       "        0.        , 0.        , 0.        , 0.05098039, 0.22352941,\n",
       "        0.61568627, 0.70196078, 0.98823529, 0.98823529, 0.98823529,\n",
       "        0.99215686, 0.98823529, 0.98823529, 0.98823529, 0.99215686,\n",
       "        0.76862745, 0.        , 0.        , 0.        , 0.        ,\n",
       "        0.        , 0.        , 0.        ],\n",
       "       [0.        , 0.        , 0.        , 0.        , 0.        ,\n",
       "        0.        , 0.        , 0.23529412, 0.81960784, 0.98823529,\n",
       "        0.98823529, 0.99215686, 0.98823529, 0.98823529, 0.98823529,\n",
       "        0.99215686, 0.91372549, 0.31372549, 0.90588235, 0.99215686,\n",
       "        0.76862745, 0.        , 0.        , 0.        , 0.        ,\n",
       "        0.        , 0.        , 0.        ],\n",
       "       [0.        , 0.        , 0.        , 0.        , 0.        ,\n",
       "        0.        , 0.        , 0.55294118, 0.98823529, 0.98823529,\n",
       "        0.98823529, 0.94509804, 0.45098039, 0.10980392, 0.50196078,\n",
       "        0.69803922, 0.08627451, 0.        , 0.88235294, 0.99215686,\n",
       "        0.76862745, 0.        , 0.        , 0.        , 0.        ,\n",
       "        0.        , 0.        , 0.        ],\n",
       "       [0.        , 0.        , 0.        , 0.        , 0.        ,\n",
       "        0.        , 0.        , 0.49411765, 0.88235294, 0.73333333,\n",
       "        0.44313725, 0.        , 0.        , 0.        , 0.        ,\n",
       "        0.39607843, 0.02745098, 0.60392157, 0.99215686, 0.99607843,\n",
       "        0.5254902 , 0.        , 0.        , 0.        , 0.        ,\n",
       "        0.        , 0.        , 0.        ],\n",
       "       [0.        , 0.        , 0.        , 0.        , 0.        ,\n",
       "        0.        , 0.        , 0.        , 0.        , 0.        ,\n",
       "        0.        , 0.        , 0.        , 0.        , 0.        ,\n",
       "        0.1254902 , 0.39607843, 0.98823529, 0.98823529, 0.81960784,\n",
       "        0.10980392, 0.        , 0.        , 0.        , 0.        ,\n",
       "        0.        , 0.        , 0.        ],\n",
       "       [0.        , 0.        , 0.        , 0.        , 0.        ,\n",
       "        0.        , 0.        , 0.        , 0.        , 0.        ,\n",
       "        0.        , 0.        , 0.        , 0.        , 0.14901961,\n",
       "        0.69803922, 0.98823529, 0.98823529, 0.98823529, 0.29803922,\n",
       "        0.        , 0.        , 0.        , 0.        , 0.        ,\n",
       "        0.        , 0.        , 0.        ],\n",
       "       [0.        , 0.        , 0.        , 0.        , 0.        ,\n",
       "        0.        , 0.        , 0.        , 0.        , 0.        ,\n",
       "        0.        , 0.        , 0.        , 0.14901961, 0.88235294,\n",
       "        0.99215686, 0.98823529, 0.98823529, 0.20392157, 0.        ,\n",
       "        0.        , 0.        , 0.        , 0.        , 0.        ,\n",
       "        0.        , 0.        , 0.        ],\n",
       "       [0.        , 0.        , 0.        , 0.        , 0.        ,\n",
       "        0.        , 0.        , 0.        , 0.        , 0.        ,\n",
       "        0.        , 0.0627451 , 0.50196078, 0.99215686, 0.99215686,\n",
       "        0.99607843, 0.99215686, 0.99215686, 0.6       , 0.29803922,\n",
       "        0.        , 0.        , 0.        , 0.        , 0.        ,\n",
       "        0.        , 0.        , 0.        ],\n",
       "       [0.        , 0.        , 0.        , 0.        , 0.        ,\n",
       "        0.        , 0.        , 0.        , 0.        , 0.        ,\n",
       "        0.59215686, 0.84705882, 0.98823529, 0.98823529, 0.98823529,\n",
       "        0.99215686, 0.98823529, 0.98823529, 0.98823529, 0.95686275,\n",
       "        0.51372549, 0.        , 0.        , 0.        , 0.        ,\n",
       "        0.        , 0.        , 0.        ],\n",
       "       [0.        , 0.        , 0.        , 0.        , 0.        ,\n",
       "        0.        , 0.        , 0.        , 0.        , 0.        ,\n",
       "        0.88235294, 0.99215686, 0.98823529, 0.87843137, 0.65882353,\n",
       "        0.65882353, 0.65882353, 0.65882353, 0.95294118, 0.99215686,\n",
       "        0.84313725, 0.0745098 , 0.        , 0.        , 0.        ,\n",
       "        0.        , 0.        , 0.        ],\n",
       "       [0.        , 0.        , 0.        , 0.        , 0.        ,\n",
       "        0.        , 0.        , 0.        , 0.        , 0.        ,\n",
       "        0.49019608, 0.54901961, 0.45098039, 0.0745098 , 0.        ,\n",
       "        0.        , 0.        , 0.        , 0.29411765, 0.99215686,\n",
       "        0.98823529, 0.21960784, 0.        , 0.        , 0.        ,\n",
       "        0.        , 0.        , 0.        ],\n",
       "       [0.        , 0.        , 0.        , 0.        , 0.        ,\n",
       "        0.        , 0.        , 0.        , 0.        , 0.        ,\n",
       "        0.        , 0.        , 0.        , 0.        , 0.        ,\n",
       "        0.        , 0.        , 0.        , 0.49411765, 0.99607843,\n",
       "        0.87058824, 0.09803922, 0.        , 0.        , 0.        ,\n",
       "        0.        , 0.        , 0.        ],\n",
       "       [0.        , 0.        , 0.        , 0.        , 0.14901961,\n",
       "        0.6627451 , 0.6627451 , 0.42352941, 0.0745098 , 0.        ,\n",
       "        0.        , 0.        , 0.        , 0.        , 0.        ,\n",
       "        0.        , 0.        , 0.0745098 , 0.90588235, 0.99215686,\n",
       "        0.76862745, 0.        , 0.        , 0.        , 0.        ,\n",
       "        0.        , 0.        , 0.        ],\n",
       "       [0.        , 0.        , 0.        , 0.        , 0.56470588,\n",
       "        0.98823529, 0.98823529, 0.99215686, 0.67058824, 0.        ,\n",
       "        0.        , 0.        , 0.        , 0.        , 0.        ,\n",
       "        0.        , 0.0745098 , 0.54901961, 0.98823529, 0.99215686,\n",
       "        0.76862745, 0.        , 0.        , 0.        , 0.        ,\n",
       "        0.        , 0.        , 0.        ],\n",
       "       [0.        , 0.        , 0.        , 0.        , 0.6627451 ,\n",
       "        0.98823529, 0.98823529, 0.99215686, 0.96470588, 0.73333333,\n",
       "        0.05098039, 0.        , 0.        , 0.        , 0.        ,\n",
       "        0.05098039, 0.56470588, 0.98823529, 0.98823529, 0.94509804,\n",
       "        0.23137255, 0.        , 0.        , 0.        , 0.        ,\n",
       "        0.        , 0.        , 0.        ],\n",
       "       [0.        , 0.        , 0.        , 0.        , 0.42352941,\n",
       "        0.99215686, 0.99215686, 0.99607843, 0.99215686, 0.99215686,\n",
       "        0.79607843, 0.30980392, 0.11372549, 0.11372549, 0.30980392,\n",
       "        0.8       , 0.99215686, 0.99215686, 0.94509804, 0.2       ,\n",
       "        0.        , 0.        , 0.        , 0.        , 0.        ,\n",
       "        0.        , 0.        , 0.        ],\n",
       "       [0.        , 0.        , 0.        , 0.        , 0.0745098 ,\n",
       "        0.47843137, 0.96470588, 0.99215686, 0.98823529, 0.98823529,\n",
       "        0.98823529, 0.99215686, 0.98823529, 0.98823529, 0.98823529,\n",
       "        0.99215686, 0.98823529, 0.91372549, 0.23137255, 0.        ,\n",
       "        0.        , 0.        , 0.        , 0.        , 0.        ,\n",
       "        0.        , 0.        , 0.        ],\n",
       "       [0.        , 0.        , 0.        , 0.        , 0.        ,\n",
       "        0.        , 0.58823529, 0.99215686, 0.98823529, 0.98823529,\n",
       "        0.98823529, 0.99215686, 0.98823529, 0.98823529, 0.98823529,\n",
       "        0.99215686, 0.66666667, 0.14509804, 0.        , 0.        ,\n",
       "        0.        , 0.        , 0.        , 0.        , 0.        ,\n",
       "        0.        , 0.        , 0.        ],\n",
       "       [0.        , 0.        , 0.        , 0.        , 0.        ,\n",
       "        0.        , 0.        , 0.15686275, 0.64705882, 0.98823529,\n",
       "        0.98823529, 0.79607843, 0.98823529, 0.64313725, 0.54509804,\n",
       "        0.30588235, 0.03529412, 0.        , 0.        , 0.        ,\n",
       "        0.        , 0.        , 0.        , 0.        , 0.        ,\n",
       "        0.        , 0.        , 0.        ],\n",
       "       [0.        , 0.        , 0.        , 0.        , 0.        ,\n",
       "        0.        , 0.        , 0.        , 0.        , 0.        ,\n",
       "        0.        , 0.        , 0.        , 0.        , 0.        ,\n",
       "        0.        , 0.        , 0.        , 0.        , 0.        ,\n",
       "        0.        , 0.        , 0.        , 0.        , 0.        ,\n",
       "        0.        , 0.        , 0.        ],\n",
       "       [0.        , 0.        , 0.        , 0.        , 0.        ,\n",
       "        0.        , 0.        , 0.        , 0.        , 0.        ,\n",
       "        0.        , 0.        , 0.        , 0.        , 0.        ,\n",
       "        0.        , 0.        , 0.        , 0.        , 0.        ,\n",
       "        0.        , 0.        , 0.        , 0.        , 0.        ,\n",
       "        0.        , 0.        , 0.        ],\n",
       "       [0.        , 0.        , 0.        , 0.        , 0.        ,\n",
       "        0.        , 0.        , 0.        , 0.        , 0.        ,\n",
       "        0.        , 0.        , 0.        , 0.        , 0.        ,\n",
       "        0.        , 0.        , 0.        , 0.        , 0.        ,\n",
       "        0.        , 0.        , 0.        , 0.        , 0.        ,\n",
       "        0.        , 0.        , 0.        ],\n",
       "       [0.        , 0.        , 0.        , 0.        , 0.        ,\n",
       "        0.        , 0.        , 0.        , 0.        , 0.        ,\n",
       "        0.        , 0.        , 0.        , 0.        , 0.        ,\n",
       "        0.        , 0.        , 0.        , 0.        , 0.        ,\n",
       "        0.        , 0.        , 0.        , 0.        , 0.        ,\n",
       "        0.        , 0.        , 0.        ]])"
      ]
     },
     "execution_count": 45,
     "metadata": {},
     "output_type": "execute_result"
    }
   ],
   "source": [
    "xtrain_img = xtrain_np.reshape(len(xtrain_np),28,28)\n",
    "xtrain_img[10]"
   ]
  },
  {
   "cell_type": "code",
   "execution_count": 47,
   "id": "ad2bfeff",
   "metadata": {},
   "outputs": [
    {
     "data": {
      "image/png": "[encoded data removed]",
      "text/plain": [
       "<Figure size 288x288 with 1 Axes>"
      ]
     },
     "metadata": {
      "needs_background": "light"
     },
     "output_type": "display_data"
    }
   ],
   "source": [
    "plt.matshow(xtrain_img[10]);"
   ]
  },
  {
   "cell_type": "code",
   "execution_count": 34,
   "id": "3574302b",
   "metadata": {},
   "outputs": [],
   "source": [
    "xtrain = xtrain / 255.\n",
    "xtest = xtest / 255."
   ]
  },
  {
   "cell_type": "code",
   "execution_count": 48,
   "id": "f8f97c49",
   "metadata": {},
   "outputs": [],
   "source": [
    "model = keras.Sequential([\n",
    "    keras.layers.Dense(11,input_shape=(784,) , activation='sigmoid')\n",
    "])"
   ]
  },
  {
   "cell_type": "code",
   "execution_count": 49,
   "id": "a88ae8c2",
   "metadata": {},
   "outputs": [],
   "source": [
    "model.compile(optimizer='adam',\n",
    "              loss='sparse_categorical_crossentropy',\n",
    "              metrics=['accuracy'])"
   ]
  },
  {
   "cell_type": "code",
   "execution_count": 55,
   "id": "d9d52ff8",
   "metadata": {},
   "outputs": [],
   "source": [
    "ytrain_np = ytrain.to_numpy(dtype = 'float')"
   ]
  },
  {
   "cell_type": "code",
   "execution_count": 56,
   "id": "9770300d",
   "metadata": {},
   "outputs": [
    {
     "data": {
      "text/plain": [
       "array([1., 0., 3., ..., 0., 9., 3.])"
      ]
     },
     "execution_count": 56,
     "metadata": {},
     "output_type": "execute_result"
    }
   ],
   "source": [
    "ytrain_np"
   ]
  },
  {
   "cell_type": "code",
   "execution_count": 57,
   "id": "a6137f44",
   "metadata": {},
   "outputs": [
    {
     "name": "stdout",
     "output_type": "stream",
     "text": [
      "Epoch 1/6\n",
      "329/329 [==============================] - 6s 7ms/step - loss: 0.8765 - accuracy: 0.7870\n",
      "Epoch 2/6\n",
      "329/329 [==============================] - 85s 259ms/step - loss: 0.4436 - accuracy: 0.8885\n",
      "Epoch 3/6\n",
      "329/329 [==============================] - 2s 7ms/step - loss: 0.3714 - accuracy: 0.9022\n",
      "Epoch 4/6\n",
      "329/329 [==============================] - 2s 7ms/step - loss: 0.3371 - accuracy: 0.9094\n",
      "Epoch 5/6\n",
      "329/329 [==============================] - 2s 5ms/step - loss: 0.3151 - accuracy: 0.9153\n",
      "Epoch 6/6\n",
      "329/329 [==============================] - 1s 4ms/step - loss: 0.2984 - accuracy: 0.9185\n"
     ]
    },
    {
     "data": {
      "text/plain": [
       "<keras.callbacks.History at 0x1185b83b80>"
      ]
     },
     "execution_count": 57,
     "metadata": {},
     "output_type": "execute_result"
    }
   ],
   "source": [
    "model.fit(xtrain_np, ytrain_np, epochs=6)"
   ]
  },
  {
   "cell_type": "code",
   "execution_count": 58,
   "id": "5ff76693",
   "metadata": {},
   "outputs": [],
   "source": [
    "ytest =ytest.to_numpy(dtype = 'float')\n",
    "xtest = xtest.to_numpy()"
   ]
  },
  {
   "cell_type": "code",
   "execution_count": 59,
   "id": "0064dbc4",
   "metadata": {},
   "outputs": [
    {
     "name": "stdout",
     "output_type": "stream",
     "text": [
      "1860/1860 [==============================] - 9s 4ms/step - loss: 0.3274 - accuracy: 0.9066\n"
     ]
    },
    {
     "data": {
      "text/plain": [
       "[0.32737764716148376, 0.9066386818885803]"
      ]
     },
     "execution_count": 59,
     "metadata": {},
     "output_type": "execute_result"
    }
   ],
   "source": [
    "model.evaluate(xtest,ytest)"
   ]
  },
  {
   "cell_type": "code",
   "execution_count": 60,
   "id": "85539f1c",
   "metadata": {},
   "outputs": [
    {
     "name": "stdout",
     "output_type": "stream",
     "text": [
      "1860/1860 [==============================] - 8s 4ms/step\n"
     ]
    }
   ],
   "source": [
    "ypredict = model.predict(xtest)"
   ]
  },
  {
   "cell_type": "code",
   "execution_count": 61,
   "id": "a0b3b6dc",
   "metadata": {},
   "outputs": [
    {
     "data": {
      "text/plain": [
       "array([0.00299871, 0.9640973 , 0.7187603 , 0.07202311, 0.21524654,\n",
       "       0.04748667, 0.12073738, 0.18236797, 0.68417776, 0.01877019,\n",
       "       0.00441169], dtype=float32)"
      ]
     },
     "execution_count": 61,
     "metadata": {},
     "output_type": "execute_result"
    }
   ],
   "source": [
    "ypredict[9]"
   ]
  },
  {
   "cell_type": "code",
   "execution_count": 68,
   "id": "520c2f33",
   "metadata": {},
   "outputs": [
    {
     "data": {
      "text/plain": [
       "Text(0.5, 1.0, 'Real Number')"
      ]
     },
     "execution_count": 68,
     "metadata": {},
     "output_type": "execute_result"
    },
    {
     "data": {
      "image/png": "[encoded data removed]",
      "text/plain": [
       "<Figure size 288x288 with 1 Axes>"
      ]
     },
     "metadata": {
      "needs_background": "light"
     },
     "output_type": "display_data"
    }
   ],
   "source": [
    "xtest_img = xtest.reshape(len(xtest),28,28)\n",
    "plt.matshow(xtest_img[2]);\n",
    "plt.title(\"Real Number\")"
   ]
  },
  {
   "cell_type": "code",
   "execution_count": 70,
   "id": "d6845485",
   "metadata": {},
   "outputs": [
    {
     "data": {
      "text/plain": [
       "3"
      ]
     },
     "execution_count": 70,
     "metadata": {},
     "output_type": "execute_result"
    }
   ],
   "source": [
    "np.argmax(ypredict[2])"
   ]
  },
  {
   "cell_type": "code",
   "execution_count": 74,
   "id": "5d1b0186",
   "metadata": {},
   "outputs": [
    {
     "data": {
      "text/plain": [
       "<tf.Tensor: shape=(10, 10), dtype=int32, numpy=\n",
       "array([[5673,    0,   32,   16,    9,   32,   49,    6,   45,   10],\n",
       "       [   0, 6467,   36,   39,    7,   44,   13,   12,   58,   15],\n",
       "       [  42,   54, 5223,  132,  106,   25,   89,   93,  132,   24],\n",
       "       [  15,   33,  156, 5413,   10,  208,   32,   56,   82,   87],\n",
       "       [  12,   17,   32,    5, 5364,    6,   59,   11,   33,  286],\n",
       "       [  70,   32,   34,  229,   76, 4468,  129,   13,  176,   94],\n",
       "       [  37,   22,   43,    5,   47,  101, 5524,    7,   28,    1],\n",
       "       [  32,   44,   83,   33,   79,    5,    3, 5641,   10,  291],\n",
       "       [  44,  124,   95,  217,   49,  203,   61,   40, 4844,  173],\n",
       "       [  31,   23,   28,   86,  210,   27,    3,  128,   29, 5328]])>"
      ]
     },
     "execution_count": 74,
     "metadata": {},
     "output_type": "execute_result"
    }
   ],
   "source": [
    "y_predicted_labels = [np.argmax(i) for i in ypredict]\n",
    "confusion_matrix = tf.math.confusion_matrix(labels=ytest,predictions=y_predicted_labels)\n",
    "confusion_matrix"
   ]
  },
  {
   "cell_type": "code",
   "execution_count": 73,
   "id": "65297ca1",
   "metadata": {},
   "outputs": [],
   "source": [
    "import seaborn as sn"
   ]
  },
  {
   "cell_type": "code",
   "execution_count": 78,
   "id": "6e549942",
   "metadata": {},
   "outputs": [
    {
     "data": {
      "text/plain": [
       "Text(33.0, 0.5, 'Truth')"
      ]
     },
     "execution_count": 78,
     "metadata": {},
     "output_type": "execute_result"
    },
    {
     "data": {
      "image/png": "[encoded data removed]",
      "text/plain": [
       "<Figure size 432x288 with 2 Axes>"
      ]
     },
     "metadata": {
      "needs_background": "light"
     },
     "output_type": "display_data"
    }
   ],
   "source": [
    "sn.heatmap(confusion_matrix, annot=True, fmt='d')\n",
    "plt.xlabel('Predicted')\n",
    "plt.ylabel('Truth')"
   ]
  }
 ],
 "metadata": {
  "kernelspec": {
   "display_name": "Python 3 (ipykernel)",
   "language": "python",
   "name": "python3"
  },
  "language_info": {
   "codemirror_mode": {
    "name": "ipython",
    "version": 3
   },
   "file_extension": ".py",
   "mimetype": "text/x-python",
   "name": "python",
   "nbconvert_exporter": "python",
   "pygments_lexer": "ipython3",
   "version": "3.9.7"
  }
 },
 "nbformat": 4,
 "nbformat_minor": 5
}
