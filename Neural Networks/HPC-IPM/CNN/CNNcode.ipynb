{
  "nbformat": 4,
  "nbformat_minor": 0,
  "metadata": {
    "colab": {
      "name": "CNNcode.ipynb",
      "provenance": [],
      "collapsed_sections": []
    },
    "kernelspec": {
      "name": "python3",
      "display_name": "Python 3"
    },
    "language_info": {
      "name": "python"
    }
  },
  "cells": [
    {
      "cell_type": "code",
      "execution_count": 1,
      "metadata": {
        "id": "AZO7IHGTXKwl"
      },
      "outputs": [],
      "source": [
        "import tensorflow as tf\n",
        "from tensorflow import keras\n",
        "import matplotlib.pyplot as plt\n",
        "import numpy as np"
      ]
    },
    {
      "cell_type": "code",
      "source": [
        "from keras.datasets import mnist\n",
        "(x_train, y_train), (x_test, y_test) = keras.datasets.mnist.load_data()"
      ],
      "metadata": {
        "id": "7Lx_moRtXphP"
      },
      "execution_count": 4,
      "outputs": []
    },
    {
      "cell_type": "code",
      "source": [
        "y_train = keras.utils.to_categorical(y_train, 10)\n",
        "y_test = keras.utils.to_categorical(y_test, 10)\n",
        "x_train = x_train/np.max(x_train)\n",
        "x_train = x_train/np.max(x_train)"
      ],
      "metadata": {
        "id": "it8rP6r_XuPZ"
      },
      "execution_count": 5,
      "outputs": []
    },
    {
      "cell_type": "code",
      "source": [
        "from keras.layers import Dense,MaxPool2D , Conv2D,Flatten"
      ],
      "metadata": {
        "id": "C4MLt83KX7dr"
      },
      "execution_count": 8,
      "outputs": []
    },
    {
      "cell_type": "code",
      "source": [
        "model = keras.Sequential()"
      ],
      "metadata": {
        "id": "N9rTffmYZG5-"
      },
      "execution_count": 13,
      "outputs": []
    },
    {
      "cell_type": "code",
      "source": [
        "model.add(Conv2D(32,kernel_size=3,activation = \"relu\",input_shape=(28,28,1)))\n",
        "model.add(Flatten())\n",
        "model.add(Dense(10,activation = \"softmax\"))"
      ],
      "metadata": {
        "id": "KLrQvkCBY1eo"
      },
      "execution_count": 14,
      "outputs": []
    },
    {
      "cell_type": "code",
      "source": [
        "model.summary()"
      ],
      "metadata": {
        "colab": {
          "base_uri": "https://localhost:8080/"
        },
        "id": "tbJTIl2BaGTI",
        "outputId": "31e3c055-86f3-4347-a0a7-bc83aba44ab3"
      },
      "execution_count": 18,
      "outputs": [
        {
          "output_type": "stream",
          "name": "stdout",
          "text": [
            "Model: \"sequential_1\"\n",
            "_________________________________________________________________\n",
            " Layer (type)                Output Shape              Param #   \n",
            "=================================================================\n",
            " conv2d_3 (Conv2D)           (None, 26, 26, 32)        320       \n",
            "                                                                 \n",
            " flatten_1 (Flatten)         (None, 21632)             0         \n",
            "                                                                 \n",
            " dense_1 (Dense)             (None, 10)                216330    \n",
            "                                                                 \n",
            "=================================================================\n",
            "Total params: 216,650\n",
            "Trainable params: 216,650\n",
            "Non-trainable params: 0\n",
            "_________________________________________________________________\n"
          ]
        }
      ]
    }
  ]
}