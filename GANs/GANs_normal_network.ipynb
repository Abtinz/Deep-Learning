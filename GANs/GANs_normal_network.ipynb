{
 "cells": [
  {
   "cell_type": "markdown",
   "id": "bba7d369",
   "metadata": {},
   "source": [
    "## Packages and Keras Installation"
   ]
  },
  {
   "cell_type": "code",
   "execution_count": 1,
   "id": "16929a60",
   "metadata": {},
   "outputs": [
    {
     "name": "stdout",
     "output_type": "stream",
     "text": [
      "Requirement already satisfied: keras in c:\\users\\abt\\appdata\\roaming\\python\\python310\\site-packages (3.9.2)\n",
      "Requirement already satisfied: absl-py in e:\\appdata\\local\\anaconda3\\lib\\site-packages (from keras) (2.1.0)\n",
      "Requirement already satisfied: numpy in c:\\users\\abt\\appdata\\roaming\\python\\python310\\site-packages (from keras) (1.26.4)\n",
      "Requirement already satisfied: rich in e:\\appdata\\local\\anaconda3\\lib\\site-packages (from keras) (13.9.4)\n",
      "Requirement already satisfied: namex in e:\\appdata\\local\\anaconda3\\lib\\site-packages (from keras) (0.0.8)\n",
      "Requirement already satisfied: h5py in e:\\appdata\\local\\anaconda3\\lib\\site-packages (from keras) (3.12.1)\n",
      "Requirement already satisfied: optree in e:\\appdata\\local\\anaconda3\\lib\\site-packages (from keras) (0.13.1)\n",
      "Requirement already satisfied: ml-dtypes in e:\\appdata\\local\\anaconda3\\lib\\site-packages (from keras) (0.4.1)\n",
      "Requirement already satisfied: packaging in e:\\appdata\\local\\anaconda3\\lib\\site-packages (from keras) (22.0)\n",
      "Requirement already satisfied: typing-extensions>=4.5.0 in c:\\users\\abt\\appdata\\roaming\\python\\python310\\site-packages (from optree->keras) (4.10.0)\n",
      "Requirement already satisfied: markdown-it-py>=2.2.0 in e:\\appdata\\local\\anaconda3\\lib\\site-packages (from rich->keras) (3.0.0)\n",
      "Requirement already satisfied: pygments<3.0.0,>=2.13.0 in e:\\appdata\\local\\anaconda3\\lib\\site-packages (from rich->keras) (2.18.0)\n",
      "Requirement already satisfied: mdurl~=0.1 in e:\\appdata\\local\\anaconda3\\lib\\site-packages (from markdown-it-py>=2.2.0->rich->keras) (0.1.2)\n",
      "Note: you may need to restart the kernel to use updated packages.\n"
     ]
    },
    {
     "name": "stderr",
     "output_type": "stream",
     "text": [
      "\n",
      "[notice] A new release of pip is available: 25.0.1 -> 25.1.1\n",
      "[notice] To update, run: python.exe -m pip install --upgrade pip\n"
     ]
    },
    {
     "name": "stdout",
     "output_type": "stream",
     "text": [
      "Requirement already satisfied: matplotlib in e:\\appdata\\local\\anaconda3\\lib\\site-packages (3.7.0)\n",
      "Collecting matplotlib\n",
      "  Downloading matplotlib-3.10.3-cp310-cp310-win_amd64.whl.metadata (11 kB)\n",
      "Requirement already satisfied: contourpy>=1.0.1 in e:\\appdata\\local\\anaconda3\\lib\\site-packages (from matplotlib) (1.0.5)\n",
      "Requirement already satisfied: cycler>=0.10 in e:\\appdata\\local\\anaconda3\\lib\\site-packages (from matplotlib) (0.11.0)\n",
      "Requirement already satisfied: fonttools>=4.22.0 in e:\\appdata\\local\\anaconda3\\lib\\site-packages (from matplotlib) (4.25.0)\n",
      "Requirement already satisfied: kiwisolver>=1.3.1 in e:\\appdata\\local\\anaconda3\\lib\\site-packages (from matplotlib) (1.4.4)\n",
      "Requirement already satisfied: numpy>=1.23 in c:\\users\\abt\\appdata\\roaming\\python\\python310\\site-packages (from matplotlib) (1.26.4)\n",
      "Requirement already satisfied: packaging>=20.0 in e:\\appdata\\local\\anaconda3\\lib\\site-packages (from matplotlib) (22.0)\n",
      "Requirement already satisfied: pillow>=8 in e:\\appdata\\local\\anaconda3\\lib\\site-packages (from matplotlib) (9.4.0)\n",
      "Requirement already satisfied: pyparsing>=2.3.1 in e:\\appdata\\local\\anaconda3\\lib\\site-packages (from matplotlib) (3.0.9)\n",
      "Requirement already satisfied: python-dateutil>=2.7 in e:\\appdata\\local\\anaconda3\\lib\\site-packages (from matplotlib) (2.8.2)\n",
      "Requirement already satisfied: six>=1.5 in c:\\users\\abt\\appdata\\roaming\\python\\python310\\site-packages (from python-dateutil>=2.7->matplotlib) (1.16.0)\n",
      "Downloading matplotlib-3.10.3-cp310-cp310-win_amd64.whl (8.1 MB)\n",
      "   ---------------------------------------- 0.0/8.1 MB ? eta -:--:--\n",
      "   ---------------------------------------- 0.0/8.1 MB ? eta -:--:--\n",
      "   ---------------------------------------- 0.0/8.1 MB ? eta -:--:--\n",
      "   -- ------------------------------------- 0.5/8.1 MB 1.9 MB/s eta 0:00:05\n",
      "   ----- ---------------------------------- 1.0/8.1 MB 2.2 MB/s eta 0:00:04\n",
      "   ------- -------------------------------- 1.6/8.1 MB 2.3 MB/s eta 0:00:03\n",
      "   --------- ------------------------------ 1.8/8.1 MB 2.2 MB/s eta 0:00:03\n",
      "   ----------- ---------------------------- 2.4/8.1 MB 2.3 MB/s eta 0:00:03\n",
      "   -------------- ------------------------- 2.9/8.1 MB 2.2 MB/s eta 0:00:03\n",
      "   --------------- ------------------------ 3.1/8.1 MB 2.0 MB/s eta 0:00:03\n",
      "   ---------------- ----------------------- 3.4/8.1 MB 2.0 MB/s eta 0:00:03\n",
      "   ------------------- -------------------- 3.9/8.1 MB 1.9 MB/s eta 0:00:03\n",
      "   -------------------- ------------------- 4.2/8.1 MB 2.0 MB/s eta 0:00:02\n",
      "   ----------------------- ---------------- 4.7/8.1 MB 2.0 MB/s eta 0:00:02\n",
      "   -------------------------- ------------- 5.2/8.1 MB 2.0 MB/s eta 0:00:02\n",
      "   ---------------------------- ----------- 5.8/8.1 MB 2.0 MB/s eta 0:00:02\n",
      "   ----------------------------- ---------- 6.0/8.1 MB 2.0 MB/s eta 0:00:02\n",
      "   -------------------------------- ------- 6.6/8.1 MB 2.0 MB/s eta 0:00:01\n",
      "   ----------------------------------- ---- 7.1/8.1 MB 2.0 MB/s eta 0:00:01\n",
      "   ------------------------------------- -- 7.6/8.1 MB 2.1 MB/s eta 0:00:01\n",
      "   ---------------------------------------  7.9/8.1 MB 2.0 MB/s eta 0:00:01\n",
      "   ---------------------------------------  7.9/8.1 MB 2.0 MB/s eta 0:00:01\n",
      "   ---------------------------------------- 8.1/8.1 MB 1.8 MB/s eta 0:00:00\n",
      "Installing collected packages: matplotlib\n",
      "Successfully installed matplotlib-3.10.3\n",
      "Note: you may need to restart the kernel to use updated packages.\n"
     ]
    },
    {
     "name": "stderr",
     "output_type": "stream",
     "text": [
      "\n",
      "[notice] A new release of pip is available: 25.0.1 -> 25.1.1\n",
      "[notice] To update, run: python.exe -m pip install --upgrade pip\n"
     ]
    },
    {
     "name": "stdout",
     "output_type": "stream",
     "text": [
      "Requirement already satisfied: numpy in c:\\users\\abt\\appdata\\roaming\\python\\python310\\site-packages (1.26.4)\n",
      "Collecting numpy\n",
      "  Downloading numpy-2.2.5-cp310-cp310-win_amd64.whl.metadata (60 kB)\n",
      "Downloading numpy-2.2.5-cp310-cp310-win_amd64.whl (12.9 MB)\n",
      "   ---------------------------------------- 0.0/12.9 MB ? eta -:--:--\n",
      "   ---------------------------------------- 0.0/12.9 MB ? eta -:--:--\n",
      "    --------------------------------------- 0.3/12.9 MB ? eta -:--:--\n",
      "   - -------------------------------------- 0.5/12.9 MB 1.5 MB/s eta 0:00:09\n",
      "   --- ------------------------------------ 1.0/12.9 MB 1.4 MB/s eta 0:00:09\n",
      "   ---- ----------------------------------- 1.3/12.9 MB 1.5 MB/s eta 0:00:08\n",
      "   ---- ----------------------------------- 1.6/12.9 MB 1.5 MB/s eta 0:00:08\n",
      "   ------ --------------------------------- 2.1/12.9 MB 1.6 MB/s eta 0:00:07\n",
      "   -------- ------------------------------- 2.6/12.9 MB 1.7 MB/s eta 0:00:07\n",
      "   --------- ------------------------------ 3.1/12.9 MB 1.8 MB/s eta 0:00:06\n",
      "   ----------- ---------------------------- 3.7/12.9 MB 1.9 MB/s eta 0:00:05\n",
      "   ------------ --------------------------- 4.2/12.9 MB 2.0 MB/s eta 0:00:05\n",
      "   --------------- ------------------------ 5.0/12.9 MB 2.1 MB/s eta 0:00:04\n",
      "   ----------------- ---------------------- 5.8/12.9 MB 2.2 MB/s eta 0:00:04\n",
      "   ------------------- -------------------- 6.3/12.9 MB 2.2 MB/s eta 0:00:03\n",
      "   --------------------- ------------------ 7.1/12.9 MB 2.3 MB/s eta 0:00:03\n",
      "   ---------------------- ----------------- 7.3/12.9 MB 2.3 MB/s eta 0:00:03\n",
      "   ------------------------- -------------- 8.1/12.9 MB 2.3 MB/s eta 0:00:03\n",
      "   ---------------------------- ----------- 9.2/12.9 MB 2.4 MB/s eta 0:00:02\n",
      "   ------------------------------ --------- 10.0/12.9 MB 2.5 MB/s eta 0:00:02\n",
      "   ---------------------------------- ----- 11.0/12.9 MB 2.6 MB/s eta 0:00:01\n",
      "   ------------------------------------ --- 11.8/12.9 MB 2.7 MB/s eta 0:00:01\n",
      "   ---------------------------------------  12.8/12.9 MB 2.8 MB/s eta 0:00:01\n",
      "   ---------------------------------------- 12.9/12.9 MB 2.6 MB/s eta 0:00:00\n",
      "Installing collected packages: numpy\n",
      "  Attempting uninstall: numpy\n",
      "    Found existing installation: numpy 1.26.4\n",
      "    Uninstalling numpy-1.26.4:\n",
      "      Successfully uninstalled numpy-1.26.4\n",
      "Successfully installed numpy-2.2.5\n",
      "Note: you may need to restart the kernel to use updated packages.\n"
     ]
    },
    {
     "name": "stderr",
     "output_type": "stream",
     "text": [
      "  WARNING: The scripts f2py.exe and numpy-config.exe are installed in 'C:\\Users\\abt\\AppData\\Roaming\\Python\\Python310\\Scripts' which is not on PATH.\n",
      "  Consider adding this directory to PATH or, if you prefer to suppress this warning, use --no-warn-script-location.\n",
      "ERROR: pip's dependency resolver does not currently take into account all the packages that are installed. This behaviour is the source of the following dependency conflicts.\n",
      "gensim 4.3.0 requires FuzzyTM>=0.4.0, which is not installed.\n",
      "numba 0.56.4 requires numpy<1.24,>=1.18, but you have numpy 2.2.5 which is incompatible.\n",
      "tensorflow-intel 2.18.0 requires numpy<2.1.0,>=1.26.0, but you have numpy 2.2.5 which is incompatible.\n",
      "\n",
      "[notice] A new release of pip is available: 25.0.1 -> 25.1.1\n",
      "[notice] To update, run: python.exe -m pip install --upgrade pip\n"
     ]
    },
    {
     "name": "stdout",
     "output_type": "stream",
     "text": [
      "Requirement already satisfied: pandas in e:\\appdata\\local\\anaconda3\\lib\\site-packages (1.5.3)\n",
      "Collecting pandas\n",
      "  Downloading pandas-2.2.3-cp310-cp310-win_amd64.whl.metadata (19 kB)\n",
      "Requirement already satisfied: numpy>=1.22.4 in c:\\users\\abt\\appdata\\roaming\\python\\python310\\site-packages (from pandas) (2.2.5)\n",
      "Requirement already satisfied: python-dateutil>=2.8.2 in e:\\appdata\\local\\anaconda3\\lib\\site-packages (from pandas) (2.8.2)\n",
      "Requirement already satisfied: pytz>=2020.1 in e:\\appdata\\local\\anaconda3\\lib\\site-packages (from pandas) (2022.7)\n",
      "Requirement already satisfied: tzdata>=2022.7 in e:\\appdata\\local\\anaconda3\\lib\\site-packages (from pandas) (2023.4)\n",
      "Requirement already satisfied: six>=1.5 in c:\\users\\abt\\appdata\\roaming\\python\\python310\\site-packages (from python-dateutil>=2.8.2->pandas) (1.16.0)\n",
      "Downloading pandas-2.2.3-cp310-cp310-win_amd64.whl (11.6 MB)\n",
      "   ---------------------------------------- 0.0/11.6 MB ? eta -:--:--\n",
      "   ---------------------------------------- 0.0/11.6 MB ? eta -:--:--\n",
      "    --------------------------------------- 0.3/11.6 MB ? eta -:--:--\n",
      "   - -------------------------------------- 0.5/11.6 MB 1.3 MB/s eta 0:00:09\n",
      "   -- ------------------------------------- 0.8/11.6 MB 1.5 MB/s eta 0:00:08\n",
      "   ---- ----------------------------------- 1.3/11.6 MB 1.5 MB/s eta 0:00:08\n",
      "   ----- ---------------------------------- 1.6/11.6 MB 1.5 MB/s eta 0:00:07\n",
      "   ------ --------------------------------- 1.8/11.6 MB 1.5 MB/s eta 0:00:07\n",
      "   -------- ------------------------------- 2.4/11.6 MB 1.6 MB/s eta 0:00:06\n",
      "   --------- ------------------------------ 2.6/11.6 MB 1.6 MB/s eta 0:00:06\n",
      "   ---------- ----------------------------- 3.1/11.6 MB 1.7 MB/s eta 0:00:06\n",
      "   ------------ --------------------------- 3.7/11.6 MB 1.7 MB/s eta 0:00:05\n",
      "   -------------- ------------------------- 4.2/11.6 MB 1.8 MB/s eta 0:00:05\n",
      "   --------------- ------------------------ 4.5/11.6 MB 1.8 MB/s eta 0:00:05\n",
      "   ---------------- ----------------------- 4.7/11.6 MB 1.8 MB/s eta 0:00:04\n",
      "   ------------------ --------------------- 5.5/11.6 MB 1.8 MB/s eta 0:00:04\n",
      "   ------------------- -------------------- 5.8/11.6 MB 1.8 MB/s eta 0:00:04\n",
      "   --------------------- ------------------ 6.3/11.6 MB 1.9 MB/s eta 0:00:03\n",
      "   ----------------------- ---------------- 6.8/11.6 MB 1.9 MB/s eta 0:00:03\n",
      "   ------------------------- -------------- 7.3/11.6 MB 1.9 MB/s eta 0:00:03\n",
      "   --------------------------- ------------ 7.9/11.6 MB 1.9 MB/s eta 0:00:02\n",
      "   ---------------------------- ----------- 8.4/11.6 MB 2.0 MB/s eta 0:00:02\n",
      "   ------------------------------ --------- 8.9/11.6 MB 2.0 MB/s eta 0:00:02\n",
      "   -------------------------------- ------- 9.4/11.6 MB 2.0 MB/s eta 0:00:02\n",
      "   --------------------------------- ------ 9.7/11.6 MB 2.0 MB/s eta 0:00:01\n",
      "   ----------------------------------- ---- 10.2/11.6 MB 2.0 MB/s eta 0:00:01\n",
      "   ------------------------------------- -- 10.7/11.6 MB 2.0 MB/s eta 0:00:01\n",
      "   ------------------------------------- -- 11.0/11.6 MB 2.0 MB/s eta 0:00:01\n",
      "   ---------------------------------------  11.5/11.6 MB 2.0 MB/s eta 0:00:01\n",
      "   ---------------------------------------  11.5/11.6 MB 2.0 MB/s eta 0:00:01\n",
      "   ---------------------------------------  11.5/11.6 MB 2.0 MB/s eta 0:00:01\n",
      "   ---------------------------------------  11.5/11.6 MB 2.0 MB/s eta 0:00:01\n",
      "   ---------------------------------------- 11.6/11.6 MB 1.8 MB/s eta 0:00:00\n",
      "Installing collected packages: pandas\n",
      "Successfully installed pandas-2.2.3\n",
      "Note: you may need to restart the kernel to use updated packages.\n"
     ]
    },
    {
     "name": "stderr",
     "output_type": "stream",
     "text": [
      "\n",
      "[notice] A new release of pip is available: 25.0.1 -> 25.1.1\n",
      "[notice] To update, run: python.exe -m pip install --upgrade pip\n"
     ]
    }
   ],
   "source": [
    "%pip install keras --user --upgrade\n",
    "%pip install matplotlib --user --upgrade\n",
    "%pip install numpy --user --upgrade\n",
    "%pip install pandas --user --upgrade"
   ]
  },
  {
   "cell_type": "code",
   "execution_count": null,
   "id": "5e4881ad",
   "metadata": {},
   "outputs": [],
   "source": [
    "import matplotlib.pyplot as plt\n",
    "import numpy as np\n",
    "\n",
    "#Keras imports\n",
    "from keras.models import Sequential#type: ignore (import issues in conda)\n",
    "from keras.layers import Dense, Flatten, Reshape, LeakyReLU#type: ignore (import issues in conda)\n",
    "from keras.datasets import mnist #type: ignore (import issues in conda)\n",
    "from keras.optimizers import Adam#type: ignore (import issues in conda)"
   ]
  },
  {
   "cell_type": "code",
   "execution_count": 7,
   "id": "de270bd1",
   "metadata": {},
   "outputs": [],
   "source": [
    "#dataset image's dimensions for numpy and mnist operations\n",
    "img_rows=28\n",
    "img_cols=28\n",
    "channels=1\n",
    "\n",
    "img_shape = (img_rows,img_cols,channels)"
   ]
  },
  {
   "cell_type": "code",
   "execution_count": 8,
   "id": "ca96be1e",
   "metadata": {},
   "outputs": [],
   "source": [
    "#noise vector dimension\n",
    "zdim=100"
   ]
  },
  {
   "cell_type": "markdown",
   "id": "43125c43",
   "metadata": {},
   "source": [
    "## Generator and Discriminator Networks "
   ]
  },
  {
   "cell_type": "code",
   "execution_count": null,
   "id": "91e55f52",
   "metadata": {},
   "outputs": [],
   "source": [
    "def build_generator(img_shape,zdim):\n",
    "    ''' Generates a generative network using:\n",
    "            a dense layer with 128 neurons for noise vectors\n",
    "            a leaky-rlu layer as an activation layer(as an threshold for first layer)\n",
    "            another dense layer with images dimensions neuron\n",
    "            finally a reshape layer for output section(adaption in dimensions with X)\n",
    "        @parameters->\n",
    "            img_shape: a tuple of w,h,c dimensions of input images\n",
    "            zdim: noise vector's array dimension\n",
    "    '''\n",
    "    model = Sequential()\n",
    "    model.add(Dense(128,input_dim=zdim))\n",
    "    model.add(LeakyReLU(alpha=0.01))\n",
    "    model.add(Dense(28*28*1,activation='tanh'))\n",
    "    model.add(Reshape(img_shape))\n",
    "    return model"
   ]
  },
  {
   "cell_type": "code",
   "execution_count": null,
   "id": "121b04b9",
   "metadata": {},
   "outputs": [],
   "source": [
    "def build_discriminator(img_shape):\n",
    "    ''' Generates a Discriminator network using:\n",
    "            a flatten layer which will convert the input image's array to an interpretable vector for our network\n",
    "            a dense layer with 128 neurons a an input layer for network\n",
    "            a leaky-rlu layer as an activation layer(as an threshold for first layer)\n",
    "            another dense layer with only one neuron which is gonna to find out if the input is generated and fake or real, we should use sigmoid for calculation of \n",
    "            membership probability of given image to each of the classes(Fake, Real)\n",
    "        @parameters->\n",
    "            img_shape: a tuple of w,h,c dimensions of input images\n",
    "    '''\n",
    "    model=Sequential()\n",
    "    model.add(Flatten(input_shape=img_shape))\n",
    "    model.add(Dense(128))\n",
    "    model.add(LeakyReLU(alpha=0.01))\n",
    "    model.add(Dense(1,activation='sigmoid'))\n",
    "    return model"
   ]
  },
  {
   "cell_type": "markdown",
   "id": "63c26f5e",
   "metadata": {},
   "source": [
    "## GAN model's creation"
   ]
  },
  {
   "cell_type": "code",
   "execution_count": 12,
   "id": "0ece75e7",
   "metadata": {},
   "outputs": [],
   "source": [
    "def build_gan(gen,dis):\n",
    "    '''Generates our entire GAN model with given generator and discriminator networks\n",
    "       @parameters->\n",
    "            gen: generator network which is built by build_generator\n",
    "            dis: discriminator network which is built by build_discriminator\n",
    "       @return:\n",
    "            Final GAN model for image generation     \n",
    "    '''\n",
    "    model = Sequential()\n",
    "    model.add(gen)\n",
    "    model.add(dis)\n",
    "    return model"
   ]
  },
  {
   "cell_type": "code",
   "execution_count": 14,
   "id": "95ccdeb0",
   "metadata": {},
   "outputs": [
    {
     "name": "stderr",
     "output_type": "stream",
     "text": [
      "C:\\Users\\abt\\AppData\\Roaming\\Python\\Python310\\site-packages\\keras\\src\\layers\\core\\dense.py:87: UserWarning: Do not pass an `input_shape`/`input_dim` argument to a layer. When using Sequential models, prefer using an `Input(shape)` object as the first layer in the model instead.\n",
      "  super().__init__(activity_regularizer=activity_regularizer, **kwargs)\n"
     ]
    }
   ],
   "source": [
    "#here we build discriminator network and compile it\n",
    "dis_v = build_discriminator(img_shape)\n",
    "dis_v.compile(loss='binary_crossentropy',\n",
    "              optimizer=Adam(),\n",
    "              metrics=['accuracy'])\n",
    "\n",
    "#here we build generative network (we are not going to train it before discriminator)\n",
    "gen_v = build_generator(img_shape,zdim)\n",
    "dis_v.trainable=False\n",
    "\n",
    "#here we build GAN model and compile it\n",
    "gan_v = build_gan(gen_v,dis_v)\n",
    "gan_v.compile(loss='binary_crossentropy',\n",
    "              optimizer=Adam())"
   ]
  },
  {
   "cell_type": "code",
   "execution_count": null,
   "id": "4542964c",
   "metadata": {},
   "outputs": [],
   "source": []
  }
 ],
 "metadata": {
  "kernelspec": {
   "display_name": "base",
   "language": "python",
   "name": "python3"
  },
  "language_info": {
   "codemirror_mode": {
    "name": "ipython",
    "version": 3
   },
   "file_extension": ".py",
   "mimetype": "text/x-python",
   "name": "python",
   "nbconvert_exporter": "python",
   "pygments_lexer": "ipython3",
   "version": "3.10.9"
  }
 },
 "nbformat": 4,
 "nbformat_minor": 5
}
